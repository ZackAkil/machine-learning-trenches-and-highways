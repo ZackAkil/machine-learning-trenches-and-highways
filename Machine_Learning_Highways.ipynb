{
  "nbformat": 4,
  "nbformat_minor": 0,
  "metadata": {
    "colab": {
      "name": "Machine Learning Highways.ipynb",
      "version": "0.3.2",
      "provenance": [],
      "include_colab_link": true
    },
    "kernelspec": {
      "name": "python3",
      "display_name": "Python 3"
    }
  },
  "cells": [
    {
      "cell_type": "markdown",
      "metadata": {
        "id": "view-in-github",
        "colab_type": "text"
      },
      "source": [
        "<a href=\"https://colab.research.google.com/github/ZackAkil/machine-learning-trenches-and-highways/blob/master/Machine_Learning_Highways.ipynb\" target=\"_parent\"><img src=\"https://colab.research.google.com/assets/colab-badge.svg\" alt=\"Open In Colab\"/></a>"
      ]
    },
    {
      "cell_type": "markdown",
      "metadata": {
        "id": "JEVUlK_5GzUK",
        "colab_type": "text"
      },
      "source": [
        "# Machine Learning Highways\n",
        "This notebook will walk you through how to implement tools that will make your machine learning life a lot easier. "
      ]
    },
    {
      "cell_type": "markdown",
      "metadata": {
        "id": "A9tvl4w7HMRb",
        "colab_type": "text"
      },
      "source": [
        "## AutoML for Pneumonia classification\n",
        "We have solved the same problem we approaches in the \"Machine Learning Trenches\" notebook using [AutoML](https://cloud.google.com/automl/).\n",
        "\n",
        "Becuase all of the hard stuff was doen for us, the only remaining tasks is fetching authenticated predictions."
      ]
    },
    {
      "cell_type": "code",
      "metadata": {
        "id": "Vc5t8gSFFSCq",
        "colab_type": "code",
        "colab": {
          "base_uri": "https://localhost:8080/",
          "height": 34
        },
        "outputId": "c72690eb-f14c-4942-e5b1-ae6ecd029483"
      },
      "source": [
        "# we'll install the automl python package\n",
        "\n",
        "!pip install google-cloud-automl --quiet"
      ],
      "execution_count": 2,
      "outputs": [
        {
          "output_type": "stream",
          "text": [
            "\u001b[?25l\r\u001b[K     |██▍                             | 10kB 16.0MB/s eta 0:00:01\r\u001b[K     |████▊                           | 20kB 1.9MB/s eta 0:00:01\r\u001b[K     |███████                         | 30kB 2.7MB/s eta 0:00:01\r\u001b[K     |█████████▍                      | 40kB 1.8MB/s eta 0:00:01\r\u001b[K     |███████████▊                    | 51kB 2.2MB/s eta 0:00:01\r\u001b[K     |██████████████                  | 61kB 2.6MB/s eta 0:00:01\r\u001b[K     |████████████████▍               | 71kB 3.0MB/s eta 0:00:01\r\u001b[K     |██████████████████▉             | 81kB 3.4MB/s eta 0:00:01\r\u001b[K     |█████████████████████▏          | 92kB 3.8MB/s eta 0:00:01\r\u001b[K     |███████████████████████▌        | 102kB 2.9MB/s eta 0:00:01\r\u001b[K     |█████████████████████████▉      | 112kB 2.9MB/s eta 0:00:01\r\u001b[K     |████████████████████████████▏   | 122kB 2.9MB/s eta 0:00:01\r\u001b[K     |██████████████████████████████▌ | 133kB 2.9MB/s eta 0:00:01\r\u001b[K     |████████████████████████████████| 143kB 2.9MB/s \n",
            "\u001b[?25h"
          ],
          "name": "stdout"
        }
      ]
    },
    {
      "cell_type": "code",
      "metadata": {
        "id": "wX-vbZnIFJ2V",
        "colab_type": "code",
        "colab": {}
      },
      "source": [
        "# This is code copied and pasted from the AutoML UI\n",
        "\n",
        "import sys\n",
        "from google.cloud import automl_v1beta1\n",
        "from google.cloud.automl_v1beta1.proto import service_pb2\n",
        "\n",
        "\n",
        "SERVICE_ACCOUNT_JSON_FILE_NAME = 'highway_sa.json'\n",
        "\n",
        "\n",
        "def get_prediction(content, project_id, model_id):\n",
        "  \n",
        "  # create a prediction client using the secret service account file\n",
        "  prediction_client = (automl_v1beta1\n",
        "                        .PredictionServiceClient\n",
        "                        .from_service_account_file(SERVICE_ACCOUNT_JSON_FILE_NAME))\n",
        "\n",
        "  name = 'projects/{}/locations/us-central1/models/{}'.format(project_id, model_id)\n",
        "  payload = {'image': {'image_bytes': content }}\n",
        "  params = {}\n",
        "  request = prediction_client.predict(name, payload, params)\n",
        "  return request"
      ],
      "execution_count": 0,
      "outputs": []
    },
    {
      "cell_type": "markdown",
      "metadata": {
        "id": "l7V8fKLPJN54",
        "colab_type": "text"
      },
      "source": [
        "Download some test images"
      ]
    },
    {
      "cell_type": "code",
      "metadata": {
        "id": "pu6W13pPJe1H",
        "colab_type": "code",
        "colab": {}
      },
      "source": [
        "# [TASK] downlaod data using gsutil\n",
        "!gsutil cp \"gs://raw-data-sets/x-ray-pneumonia/training x-ray data.zip\" ."
      ],
      "execution_count": 0,
      "outputs": []
    },
    {
      "cell_type": "code",
      "metadata": {
        "id": "pX7Yl8M7JhYL",
        "colab_type": "code",
        "colab": {}
      },
      "source": [
        "# [TASK] unzip the data\n",
        "!unzip -q \"training x-ray data.zip\""
      ],
      "execution_count": 0,
      "outputs": []
    },
    {
      "cell_type": "markdown",
      "metadata": {
        "id": "XggPYvLcJm-z",
        "colab_type": "text"
      },
      "source": [
        "set the `file_path` to one of the images you downloaded."
      ]
    },
    {
      "cell_type": "code",
      "metadata": {
        "id": "HDTGmLMxFNQC",
        "colab_type": "code",
        "colab": {}
      },
      "source": [
        "file_path = 'person1949_bacteria_4880.jpeg'\n",
        "\n",
        "with open(file_path, 'rb') as ff:\n",
        "    content = ff.read()"
      ],
      "execution_count": 0,
      "outputs": []
    },
    {
      "cell_type": "markdown",
      "metadata": {
        "id": "AcQVl4ZfIOjK",
        "colab_type": "text"
      },
      "source": [
        "We will need a way of making sure we are allowed to call this model.\n",
        "\n",
        "For ths we have a service account specifcially made for us:\n",
        "\n",
        "<font color=\"red\">[NOTE] This service account won't work after this class</font>\n",
        "\n",
        "```bash\n",
        "!gsutil cp \"gs://random-assets/service-accounts/highway_sa.json\" .\n",
        "```"
      ]
    },
    {
      "cell_type": "code",
      "metadata": {
        "id": "7XA9QzCtIfT_",
        "colab_type": "code",
        "colab": {
          "base_uri": "https://localhost:8080/",
          "height": 67
        },
        "outputId": "7ce3e109-e929-4ceb-de89-4638d321d8b5"
      },
      "source": [
        "# [TASK] downlaod data using gsutil \n",
        "\n",
        "!gsutil cp \"gs://random-assets/service-accounts/highway_sa.json\" ."
      ],
      "execution_count": 8,
      "outputs": [
        {
          "output_type": "stream",
          "text": [
            "Copying gs://random-assets/service-accounts/highway_sa.json...\n",
            "/ [0 files][    0.0 B/  2.3 KiB]                                                \r/ [1 files][  2.3 KiB/  2.3 KiB]                                                \r\n",
            "Operation completed over 1 objects/2.3 KiB.                                      \n"
          ],
          "name": "stdout"
        }
      ]
    },
    {
      "cell_type": "markdown",
      "metadata": {
        "id": "ROOx29LSJucw",
        "colab_type": "text"
      },
      "source": [
        "## Make a predictions:"
      ]
    },
    {
      "cell_type": "code",
      "metadata": {
        "id": "sXpvAtdEGEaK",
        "colab_type": "code",
        "colab": {
          "base_uri": "https://localhost:8080/",
          "height": 118
        },
        "outputId": "76895c23-1ddf-4e36-c11a-9f8daef3d76f"
      },
      "source": [
        "get_prediction(content, 'automl-demo-240614', 'ICN5826167920330173486')"
      ],
      "execution_count": 7,
      "outputs": [
        {
          "output_type": "execute_result",
          "data": {
            "text/plain": [
              "payload {\n",
              "  classification {\n",
              "    score: 0.7833813428878784\n",
              "  }\n",
              "  display_name: \"PNEUMONIA\"\n",
              "}"
            ]
          },
          "metadata": {
            "tags": []
          },
          "execution_count": 7
        }
      ]
    },
    {
      "cell_type": "markdown",
      "metadata": {
        "id": "EA__KyprKq3z",
        "colab_type": "text"
      },
      "source": [
        "## Done  🏁\n",
        "Quite a bit easier than going through the trenches"
      ]
    }
  ]
}
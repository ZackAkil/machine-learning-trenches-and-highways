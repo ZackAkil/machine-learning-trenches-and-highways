{
  "nbformat": 4,
  "nbformat_minor": 0,
  "metadata": {
    "colab": {
      "name": "Machine Learning Highways.ipynb",
      "version": "0.3.2",
      "provenance": [],
      "toc_visible": true,
      "include_colab_link": true
    },
    "kernelspec": {
      "name": "python3",
      "display_name": "Python 3"
    }
  },
  "cells": [
    {
      "cell_type": "markdown",
      "metadata": {
        "id": "view-in-github",
        "colab_type": "text"
      },
      "source": [
        "<a href=\"https://colab.research.google.com/github/ZackAkil/machine-learning-trenches-and-highways/blob/master/Machine_Learning_Highways.ipynb\" target=\"_parent\"><img src=\"https://colab.research.google.com/assets/colab-badge.svg\" alt=\"Open In Colab\"/></a>"
      ]
    },
    {
      "cell_type": "markdown",
      "metadata": {
        "id": "JEVUlK_5GzUK",
        "colab_type": "text"
      },
      "source": [
        "# Machine Learning Highways\n",
        "This notebook will walk you through how to implement tools that will make your machine learning life a lot easier. "
      ]
    },
    {
      "cell_type": "markdown",
      "metadata": {
        "id": "A9tvl4w7HMRb",
        "colab_type": "text"
      },
      "source": [
        "## AutoML for Pneumonia classification\n",
        "We have solved the same problem we approaches in the \"Machine Learning Trenches\" notebook using [AutoML](https://cloud.google.com/automl/).\n",
        "\n",
        "Becuase all of the hard stuff was doen for us, the only remaining tasks is fetching authenticated predictions."
      ]
    },
    {
      "cell_type": "code",
      "metadata": {
        "id": "Vc5t8gSFFSCq",
        "colab_type": "code",
        "colab": {}
      },
      "source": [
        "# we'll install the automl python package\n",
        "\n",
        "!pip install google-cloud-automl --quiet"
      ],
      "execution_count": 0,
      "outputs": []
    },
    {
      "cell_type": "code",
      "metadata": {
        "id": "wX-vbZnIFJ2V",
        "colab_type": "code",
        "colab": {}
      },
      "source": [
        "# This is code copied and pasted from the AutoML UI\n",
        "\n",
        "import sys\n",
        "from google.cloud import automl_v1beta1\n",
        "from google.cloud.automl_v1beta1.proto import service_pb2\n",
        "\n",
        "\n",
        "SERVICE_ACCOUNT_JSON_FILE_NAME = 'highway_sa.json'\n",
        "\n",
        "\n",
        "def get_prediction(content, project_id, model_id):\n",
        "  \n",
        "  # create a prediction client using the secret service account file\n",
        "  prediction_client = (automl_v1beta1\n",
        "                        .PredictionServiceClient\n",
        "                        .from_service_account_file(SERVICE_ACCOUNT_JSON_FILE_NAME))\n",
        "\n",
        "  name = 'projects/{}/locations/us-central1/models/{}'.format(project_id, model_id)\n",
        "  payload = {'image': {'image_bytes': content }}\n",
        "  params = {}\n",
        "  request = prediction_client.predict(name, payload, params)\n",
        "  return request"
      ],
      "execution_count": 0,
      "outputs": []
    },
    {
      "cell_type": "markdown",
      "metadata": {
        "id": "l7V8fKLPJN54",
        "colab_type": "text"
      },
      "source": [
        "Download some test images"
      ]
    },
    {
      "cell_type": "code",
      "metadata": {
        "id": "pu6W13pPJe1H",
        "colab_type": "code",
        "colab": {}
      },
      "source": [
        "# [TASK] downlaod data using gsutil\n",
        "!gsutil cp \"gs://raw-data-sets/x-ray-pneumonia/training x-ray data.zip\" ."
      ],
      "execution_count": 0,
      "outputs": []
    },
    {
      "cell_type": "code",
      "metadata": {
        "id": "pX7Yl8M7JhYL",
        "colab_type": "code",
        "colab": {}
      },
      "source": [
        "# [TASK] unzip the data\n",
        "!unzip -q \"training x-ray data.zip\""
      ],
      "execution_count": 0,
      "outputs": []
    },
    {
      "cell_type": "markdown",
      "metadata": {
        "id": "XggPYvLcJm-z",
        "colab_type": "text"
      },
      "source": [
        "set the `file_path` to one of the images you downloaded."
      ]
    },
    {
      "cell_type": "code",
      "metadata": {
        "id": "HDTGmLMxFNQC",
        "colab_type": "code",
        "colab": {}
      },
      "source": [
        "file_path = 'person1949_bacteria_4880.jpeg'\n",
        "\n",
        "with open(file_path, 'rb') as ff:\n",
        "    content = ff.read()"
      ],
      "execution_count": 0,
      "outputs": []
    },
    {
      "cell_type": "markdown",
      "metadata": {
        "id": "AcQVl4ZfIOjK",
        "colab_type": "text"
      },
      "source": [
        "We will need a way of making sure we are allowed to call this model.\n",
        "\n",
        "For ths we have a service account specifcially made for us:\n",
        "\n",
        "<font color=\"red\">[NOTE] This service account won't work after this class</font>\n",
        "\n",
        "```bash\n",
        "!gsutil cp \"gs://random-assets/service-accounts/highway_sa.json\" .\n",
        "```"
      ]
    },
    {
      "cell_type": "code",
      "metadata": {
        "id": "7XA9QzCtIfT_",
        "colab_type": "code",
        "colab": {}
      },
      "source": [
        "# [TASK] downlaod data using gsutil \n",
        "\n",
        "!gsutil cp \"gs://random-assets/service-accounts/highway_sa.json\" ."
      ],
      "execution_count": 0,
      "outputs": []
    },
    {
      "cell_type": "markdown",
      "metadata": {
        "id": "ROOx29LSJucw",
        "colab_type": "text"
      },
      "source": [
        "## Make a predictions:"
      ]
    },
    {
      "cell_type": "code",
      "metadata": {
        "id": "sXpvAtdEGEaK",
        "colab_type": "code",
        "colab": {}
      },
      "source": [
        "get_prediction(content, 'automl-demo-240614', 'ICN5826167920330173486')"
      ],
      "execution_count": 0,
      "outputs": []
    },
    {
      "cell_type": "markdown",
      "metadata": {
        "id": "EA__KyprKq3z",
        "colab_type": "text"
      },
      "source": [
        "## Done  🏁\n",
        "Quite a bit easier than going through the trenches"
      ]
    },
    {
      "cell_type": "markdown",
      "metadata": {
        "id": "qNewJ5hTb6Nu",
        "colab_type": "text"
      },
      "source": [
        "# Using a Petrained API \n",
        "The easiest models to build are the ones that are already built for you. \n",
        "​\n",
        "Google has already trained powerful generic models for [Vision](https://cloud.google.com/vision) and [Natural Language](https://cloud.google.com/natural-language/) that you can use via a REST API or client libraries."
      ]
    },
    {
      "cell_type": "code",
      "metadata": {
        "id": "LpqY7lSQdRFB",
        "colab_type": "code",
        "colab": {}
      },
      "source": [
        "# import requests - using request to make api calls\n",
        "import requests\n",
        "import json\n",
        "import base64"
      ],
      "execution_count": 0,
      "outputs": []
    },
    {
      "cell_type": "markdown",
      "metadata": {
        "id": "CLsMFTjgdY8i",
        "colab_type": "text"
      },
      "source": [
        "Upload any image you want to the Colab environment using the files tab"
      ]
    },
    {
      "cell_type": "markdown",
      "metadata": {
        "id": "J21uq2jUdcWv",
        "colab_type": "text"
      },
      "source": [
        "Convert the image you downloaded into base64 so that is can be sent to the Vision API:\n",
        "\n",
        "the following code gets teh byte data from a local file:\n",
        "\n",
        "```python\n",
        "with open(\"LOCAL IMAGE FILE NAME\", \"rb\") as image_file:\n",
        "    image_bytes = image_file.read()\n",
        "```\n",
        "\n",
        "the following code converts image bytes to base64:\n",
        "```python\n",
        "encoded_string = base64.b64encode(IMAGE_BYTES).decode('utf-8')\n",
        "```"
      ]
    },
    {
      "cell_type": "code",
      "metadata": {
        "id": "WFC53XgSdnz2",
        "colab_type": "code",
        "colab": {}
      },
      "source": [
        "# [TASK] get a local image and convert to base64\n",
        "\n"
      ],
      "execution_count": 0,
      "outputs": []
    },
    {
      "cell_type": "markdown",
      "metadata": {
        "id": "5IbkNmEUdsBO",
        "colab_type": "text"
      },
      "source": [
        "Using the [Vision API](https://cloud.google.com/vision)\n",
        "\n",
        "Create request body that is sent to API:\n",
        "\n",
        "The sturcture of the request body is as follows:\n",
        "\n",
        "```javascript\n",
        "{\n",
        "  \"requests\":[\n",
        "    {\n",
        "      \"image\":{\n",
        "        \"content\": IMAGE DATA ENCODED AS BASE64\n",
        "      },\n",
        "      \"features\":[\n",
        "        {\n",
        "          \"type\":\"LABEL_DETECTION\",\n",
        "          \"maxResults\":20\n",
        "        }\n",
        "      ]\n",
        "    }\n",
        "  ]\n",
        "}\n",
        "\n",
        "```"
      ]
    },
    {
      "cell_type": "code",
      "metadata": {
        "id": "t19bYoDVd4xJ",
        "colab_type": "code",
        "colab": {}
      },
      "source": [
        "# [TASK] add your body request\n",
        "\n",
        "body = None"
      ],
      "execution_count": 0,
      "outputs": []
    },
    {
      "cell_type": "code",
      "metadata": {
        "id": "ajbXSNz3eMjC",
        "colab_type": "code",
        "colab": {}
      },
      "source": [
        "# [TASK] add in the API key and send a prediction request\n",
        "\n",
        "API_KEY = 'YOUR/MY API KEY'\n",
        "\n",
        "req = requests.post('https://vision.googleapis.com/v1/images:annotate?key=' + API_KEY,\n",
        "                   headers = {'Content-Type':'application/json'},\n",
        "                   json = body)"
      ],
      "execution_count": 0,
      "outputs": []
    },
    {
      "cell_type": "markdown",
      "metadata": {
        "id": "FiWa_cIoeT5l",
        "colab_type": "text"
      },
      "source": [
        "Look at the predicted labels (i.e the response from the API) by calling:\n",
        "\n",
        "```python\n",
        "req.json()\n",
        "```"
      ]
    },
    {
      "cell_type": "code",
      "metadata": {
        "id": "WuUnSmujeUR6",
        "colab_type": "code",
        "colab": {}
      },
      "source": [
        "# [TASK] Look at the prediction labels\n"
      ],
      "execution_count": 0,
      "outputs": []
    },
    {
      "cell_type": "markdown",
      "metadata": {
        "id": "ibySvKppfVng",
        "colab_type": "text"
      },
      "source": [
        "## Done  🏁\n",
        "Quite a bit easier than going through the trenches"
      ]
    }
  ]
}